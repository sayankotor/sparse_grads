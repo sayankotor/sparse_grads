{
 "cells": [
  {
   "cell_type": "code",
   "execution_count": 1,
   "id": "386277d7-4650-4114-bf09-eb8567c226da",
   "metadata": {},
   "outputs": [
    {
     "name": "stdout",
     "output_type": "stream",
     "text": [
      "memory before layer initializing: 0.0\n",
      "memory after layer initializing: 0.00048828125\n"
     ]
    }
   ],
   "source": [
    "import torch\n",
    "\n",
    "def cuda_memory(offset: int = 0):\n",
    "    return (torch.cuda.memory_allocated('cuda:0')) / 2**20\n",
    "    \n",
    "\n",
    "parameters = cuda_memory()\n",
    "print(f'memory before layer initializing: {cuda_memory()}')\n",
    "\n",
    "t = torch.tensor([[[0., 0], [0., 0], [0., 0], [0., 0], [1., 2.]], [[0., 0], [0., 0], [0., 0], [0., 0], [3., 4.]]]).to('cuda:0')\n",
    "\n",
    "parameters = cuda_memory()\n",
    "print(f'memory after layer initializing: {cuda_memory()}')\n",
    "\n"
   ]
  },
  {
   "cell_type": "code",
   "execution_count": 2,
   "id": "ab69e1e9-ff68-4f1c-8951-2b74684a31bc",
   "metadata": {},
   "outputs": [
    {
     "name": "stdout",
     "output_type": "stream",
     "text": [
      "memory before layer initializing: 0.00048828125\n",
      "memory after layer initializing: 0.0009765625\n"
     ]
    }
   ],
   "source": [
    "import torch\n",
    "\n",
    "def cuda_memory(offset: int = 0):\n",
    "    return (torch.cuda.memory_allocated('cuda:0')) / 2**20\n",
    "    \n",
    "\n",
    "parameters = cuda_memory()\n",
    "print(f'memory before layer initializing: {cuda_memory()}')\n",
    "\n",
    "t = torch.tensor([[[0., 0], [0., 0], [0., 0], [0., 0], [1., 2.]], [[0., 0], [0., 0], [0., 0], [0., 0], [3., 4.]]])\n",
    "t1 = t.to_sparse(sparse_dim=1).to('cuda:0')\n",
    "del t\n",
    "\n",
    "parameters = cuda_memory()\n",
    "print(f'memory after layer initializing: {cuda_memory()}')\n"
   ]
  },
  {
   "cell_type": "code",
   "execution_count": 4,
   "id": "d9e7c355-f93c-4859-82d2-71da0b4f73fb",
   "metadata": {},
   "outputs": [
    {
     "ename": "AttributeError",
     "evalue": "'Tensor' object has no attribute 'mask'",
     "output_type": "error",
     "traceback": [
      "\u001b[0;31m---------------------------------------------------------------------------\u001b[0m",
      "\u001b[0;31mAttributeError\u001b[0m                            Traceback (most recent call last)",
      "\u001b[0;32m/tmp/ipykernel_6492/2151078240.py\u001b[0m in \u001b[0;36m<module>\u001b[0;34m\u001b[0m\n\u001b[0;32m----> 1\u001b[0;31m \u001b[0mt1\u001b[0m\u001b[0;34m.\u001b[0m\u001b[0mmask\u001b[0m\u001b[0;34m\u001b[0m\u001b[0;34m\u001b[0m\u001b[0m\n\u001b[0m",
      "\u001b[0;31mAttributeError\u001b[0m: 'Tensor' object has no attribute 'mask'"
     ]
    }
   ],
   "source": [
    "t1."
   ]
  },
  {
   "cell_type": "code",
   "execution_count": 1,
   "id": "7c75a9ec-1979-4937-88d5-efd461be046f",
   "metadata": {},
   "outputs": [
    {
     "name": "stdout",
     "output_type": "stream",
     "text": [
      "memory before layer initializing: 0.0\n",
      "memory after layer initializing: 0.0009765625\n"
     ]
    }
   ],
   "source": [
    "import torch\n",
    "\n",
    "def cuda_memory(offset: int = 0):\n",
    "    return (torch.cuda.memory_allocated('cuda:0')) / 2**20\n",
    "    \n",
    "\n",
    "parameters = cuda_memory()\n",
    "print(f'memory before layer initializing: {cuda_memory()}')\n",
    "\n",
    "i = torch.tensor([[4, 4],[0, 1]])\n",
    "v = torch.tensor([1.0, 1.0], dtype=torch.float32)\n",
    "z = torch.sparse_coo_tensor(i, v, [3072, 718]).to('cuda:0')\n",
    "\n",
    "parameters = cuda_memory()\n",
    "print(f'memory after layer initializing: {cuda_memory()}')\n"
   ]
  },
  {
   "cell_type": "code",
   "execution_count": 1,
   "id": "c12cf945-c4e0-4f59-b469-2b3f0a78c91c",
   "metadata": {},
   "outputs": [
    {
     "name": "stdout",
     "output_type": "stream",
     "text": [
      "memory before layer initializing: 0.0\n",
      "memory after layer initializing: 8.4140625\n"
     ]
    }
   ],
   "source": [
    "import torch\n",
    "\n",
    "def cuda_memory(offset: int = 0):\n",
    "    return (torch.cuda.memory_allocated('cuda:0')) / 2**20\n",
    "    \n",
    "\n",
    "parameters = cuda_memory()\n",
    "print(f'memory before layer initializing: {cuda_memory()}')\n",
    "\n",
    "t = torch.zeros((3072, 718)).to('cuda:0')\n",
    "\n",
    "parameters = cuda_memory()\n",
    "print(f'memory after layer initializing: {cuda_memory()}')\n",
    "\n"
   ]
  },
  {
   "cell_type": "code",
   "execution_count": 6,
   "id": "e3e7020e-4e67-4bff-a8fc-8eb636d381b8",
   "metadata": {},
   "outputs": [
    {
     "data": {
      "text/plain": [
       "tensor(indices=tensor([[4, 4],\n",
       "                       [0, 1]]),\n",
       "       values=tensor([1., 1.]),\n",
       "       device='cuda:0', size=(5, 2), nnz=2, layout=torch.sparse_coo)"
      ]
     },
     "execution_count": 6,
     "metadata": {},
     "output_type": "execute_result"
    }
   ],
   "source": [
    "z.data"
   ]
  },
  {
   "cell_type": "code",
   "execution_count": null,
   "id": "25d38f67-c81f-471b-a48f-4bc747b88de0",
   "metadata": {},
   "outputs": [],
   "source": []
  }
 ],
 "metadata": {
  "kernelspec": {
   "display_name": "Python 3 (ipykernel)",
   "language": "python",
   "name": "python3"
  },
  "language_info": {
   "codemirror_mode": {
    "name": "ipython",
    "version": 3
   },
   "file_extension": ".py",
   "mimetype": "text/x-python",
   "name": "python",
   "nbconvert_exporter": "python",
   "pygments_lexer": "ipython3",
   "version": "3.8.10"
  }
 },
 "nbformat": 4,
 "nbformat_minor": 5
}
